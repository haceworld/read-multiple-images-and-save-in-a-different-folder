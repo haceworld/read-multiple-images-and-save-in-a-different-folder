{
 "cells": [
  {
   "cell_type": "markdown",
   "metadata": {},
   "source": [
    "# Read multiple images and save in a different folder"
   ]
  },
  {
   "cell_type": "code",
   "execution_count": 1,
   "metadata": {},
   "outputs": [],
   "source": [
    "#import libraries\n",
    "import cv2\n",
    "import os\n",
    "import glob"
   ]
  },
  {
   "cell_type": "code",
   "execution_count": 2,
   "metadata": {},
   "outputs": [],
   "source": [
    "#specify the image path\n",
    "img_path = r'D:\\Youtube\\data'\n",
    "\n",
    "#specify the destination path\n",
    "dest_path = r'D:\\Youtube\\destination'"
   ]
  },
  {
   "cell_type": "code",
   "execution_count": 4,
   "metadata": {},
   "outputs": [],
   "source": [
    "i = 1\n",
    "for img in glob.glob(img_path+'/*.*'):\n",
    "    try:\n",
    "        image =cv2.imread(img)\n",
    "        os.chdir(dest_path)\n",
    "        filename = 'new_data_'+str(i)+'.png'\n",
    "        cv2.imwrite(filename, image)\n",
    "        i+=1\n",
    "        \n",
    "    except:\n",
    "            print('{} i snot saved'.format(image))\n"
   ]
  },
  {
   "cell_type": "code",
   "execution_count": null,
   "metadata": {},
   "outputs": [],
   "source": []
  }
 ],
 "metadata": {
  "kernelspec": {
   "display_name": "Python 3",
   "language": "python",
   "name": "python3"
  },
  "language_info": {
   "codemirror_mode": {
    "name": "ipython",
    "version": 3
   },
   "file_extension": ".py",
   "mimetype": "text/x-python",
   "name": "python",
   "nbconvert_exporter": "python",
   "pygments_lexer": "ipython3",
   "version": "3.7.7"
  }
 },
 "nbformat": 4,
 "nbformat_minor": 4
}
